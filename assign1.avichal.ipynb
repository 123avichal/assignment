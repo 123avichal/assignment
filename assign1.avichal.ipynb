{
 "cells": [
  {
   "cell_type": "code",
   "execution_count": null,
   "id": "54ccfa13-499d-41d0-baeb-788f7ac5c069",
   "metadata": {},
   "outputs": [],
   "source": [
    "Q1. Explain Class and Object with respect to Object-Oriented Programming. Give a suitable example."
   ]
  },
  {
   "cell_type": "markdown",
   "id": "e66fbddf-ebd5-453c-a7c8-3d83f71fe28c",
   "metadata": {},
   "source": [
    "class is a blueprint or a prototype from which the object are created it privide the means of bundling the data and functionality together , creating a new class is to create a new object . in the class we instance of the class it allow to binding the attribute and menthod. \n",
    "class in oops programing is more to be efficient and bring ease of coding \n",
    "syantax:\n",
    " class my_class:\n",
    "    statement\n",
    "\n",
    "OBJECT- object is nothing but a diff name of variable(collection of data store in the memory) where allow to access in the class by creating a object of it  by which we can easily access the attributes and the method of a class \n",
    "object consist of state , behaviour or entity\n",
    " syantax: obj= class()\n",
    " "
   ]
  },
  {
   "cell_type": "code",
   "execution_count": null,
   "id": "f5ab9f16-7ac5-41b5-af54-77ac0f37a548",
   "metadata": {},
   "outputs": [],
   "source": [
    "Q2. Name the four pillars of OOPs."
   ]
  },
  {
   "cell_type": "markdown",
   "id": "88bbf7b3-e0aa-44ae-880e-3b597af287fc",
   "metadata": {},
   "source": [
    "in the object oriented programing system there are four pillar whisch are as follows\n",
    "1 encapsulation- it used to wraping the data in other word it prevent data to modify and alterration \n",
    "it shows in a way exaample self.__name\n",
    "\n",
    "2 inheritance- in generally it means the heirarcy or the linkage in oops it consisted of parent class and child class where we can access attributes of parents class \n",
    "it also increase the code reusability \n",
    "\n",
    "3 polymorphism- means having a many forms same function but diff signature\n",
    "\n",
    "4 data abstraction"
   ]
  },
  {
   "cell_type": "code",
   "execution_count": null,
   "id": "ced4ac3a-fc85-43af-a623-d43e09a8f264",
   "metadata": {},
   "outputs": [],
   "source": [
    "Q3. Explain why the __init__() function is used. Give a suitable example."
   ]
  },
  {
   "cell_type": "markdown",
   "id": "5f86c6f5-6a10-440f-8581-b68dbcef8801",
   "metadata": {},
   "source": [
    "initialization or we can say initialize the data it represent by __init__ . it allow to pass the data  in the class itself . it used every time when the object is created from the class .it initialize the object attribute and has no other purposes"
   ]
  },
  {
   "cell_type": "code",
   "execution_count": null,
   "id": "f220ba62-90be-486d-8259-018eae805b59",
   "metadata": {},
   "outputs": [],
   "source": [
    "Q4. Why self is used in OOPs?"
   ]
  },
  {
   "cell_type": "markdown",
   "id": "39a6b58d-1823-4db0-adde-dc137a97e7b1",
   "metadata": {},
   "source": [
    "self keyword in the opps programing system is a reeprent instance of class .it work to binding the attiribute or the method of the class to the given argument\n",
    " \n",
    " class my_class :\n",
    " \n",
    " def my_func(self):\n",
    "       return\n",
    " "
   ]
  },
  {
   "cell_type": "code",
   "execution_count": null,
   "id": "526b521c-f1f0-4533-8d48-5e71d0491820",
   "metadata": {},
   "outputs": [],
   "source": [
    "Q5. What is inheritance? Give an example for each type of inheritance."
   ]
  },
  {
   "cell_type": "markdown",
   "id": "9b35bae5-9d9d-4260-ae40-b295413e9ce1",
   "metadata": {},
   "source": [
    " in generally it means the heirarcy or the linkage in oops it consisted of parent class and child class where we can access attributes of parents class \n",
    "it also increase the code reusability \n",
    "\n",
    "1 single inheritance - A\n",
    "                       |\n",
    "                       B\n",
    "2 Multiple Inheritance: A     B\n",
    "                           C\n",
    "3  Multilevel Inheritance   A\n",
    "                            |\n",
    "                            B\n",
    "                            |\n",
    "                            C\n",
    "4  Hierarchical Inheritance:      A\n",
    "                                  |\n",
    "                            B     C     D\n",
    "5 Hybrid Inheritance:                            "
   ]
  },
  {
   "cell_type": "code",
   "execution_count": null,
   "id": "3fee70cb-5b31-4f30-8a76-95922e9cf8d1",
   "metadata": {},
   "outputs": [],
   "source": []
  }
 ],
 "metadata": {
  "kernelspec": {
   "display_name": "Python 3 (ipykernel)",
   "language": "python",
   "name": "python3"
  },
  "language_info": {
   "codemirror_mode": {
    "name": "ipython",
    "version": 3
   },
   "file_extension": ".py",
   "mimetype": "text/x-python",
   "name": "python",
   "nbconvert_exporter": "python",
   "pygments_lexer": "ipython3",
   "version": "3.10.8"
  }
 },
 "nbformat": 4,
 "nbformat_minor": 5
}
